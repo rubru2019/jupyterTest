{
 "cells": [
  {
   "cell_type": "code",
   "execution_count": 3,
   "metadata": {},
   "outputs": [
    {
     "name": "stdout",
     "output_type": "stream",
     "text": [
      "This is line 1\n",
      "This is line 2\n",
      "This is line 3\n",
      "This is line 4\n",
      "This is line 5\n",
      "This is line 6\n",
      "This is line 7\n",
      "This is line 8\n",
      "This is line 9\n",
      "This is line 10\n",
      "\n"
     ]
    }
   ],
   "source": [
    "def main():\n",
    "    f = open(\"guru99.txt\",\"w+\")\n",
    "\n",
    "    for i in range(10):\n",
    "         f.write(\"This is line %d\\r\\n\" % (i+1))\n",
    "    f.close()\n",
    "    #Open the file back and read the contents\n",
    "    f = open(\"guru99.txt\", \"r\")\n",
    "    if f.mode == 'r':\n",
    "        contents = f.read()\n",
    "        print(contents)\n",
    "    #or, readlines reads the individual line into a list\n",
    "    fl = f.readlines()\n",
    "    for x in fl:\n",
    "      print(x)\n",
    "    \n",
    "    f.close()\n",
    "    \n",
    "if __name__== \"__main__\":\n",
    "  main()"
   ]
  },
  {
   "cell_type": "code",
   "execution_count": 4,
   "metadata": {},
   "outputs": [],
   "source": [
    "var1 = 10\n",
    "pri"
   ]
  }
 ],
 "metadata": {
  "kernelspec": {
   "display_name": "Python 3 (Spyder)",
   "language": "python3",
   "name": "python3"
  },
  "language_info": {
   "codemirror_mode": {
    "name": "ipython",
    "version": 3
   },
   "file_extension": ".py",
   "mimetype": "text/x-python",
   "name": "python",
   "nbconvert_exporter": "python",
   "pygments_lexer": "ipython3",
   "version": "3.6.8"
  }
 },
 "nbformat": 4,
 "nbformat_minor": 2
}
